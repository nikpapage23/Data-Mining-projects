{
 "cells": [
  {
   "cell_type": "code",
   "execution_count": 1,
   "id": "0dd7134e",
   "metadata": {},
   "outputs": [],
   "source": [
    "import re\n",
    "import string\n",
    "import numpy as np\n",
    "import html\n",
    "import pandas as pd\n",
    "from gensim.models import Word2Vec\n",
    "from nltk.corpus import stopwords\n",
    "from nltk.stem.snowball import SnowballStemmer # Used for stemming\n",
    "from sklearn.model_selection import train_test_split # Train-test split\n",
    "from sklearn.ensemble import RandomForestClassifier\n",
    "from sklearn.metrics import classification_report, accuracy_score\n",
    "from sklearn.model_selection import GridSearchCV"
   ]
  },
  {
   "cell_type": "code",
   "execution_count": 2,
   "id": "7a53c564",
   "metadata": {},
   "outputs": [],
   "source": [
    "# Create pandas dataframe 'amazon_df' from 'amazon.csv' file\n",
    "amazon_df = pd.read_csv(\"amazon.csv\")"
   ]
  },
  {
   "cell_type": "code",
   "execution_count": 3,
   "id": "b0e125b9",
   "metadata": {},
   "outputs": [
    {
     "data": {
      "text/plain": [
       "5    29775\n",
       "4     8384\n",
       "1     5021\n",
       "3     3902\n",
       "2     2918\n",
       "Name: Score, dtype: int64"
      ]
     },
     "execution_count": 3,
     "metadata": {},
     "output_type": "execute_result"
    }
   ],
   "source": [
    "# Take a look at the support of each score in the dataframe\n",
    "amazon_df['Score'].value_counts()"
   ]
  },
  {
   "cell_type": "markdown",
   "id": "02a9127d",
   "metadata": {},
   "source": [
    "## Text Preprocessing"
   ]
  },
  {
   "cell_type": "code",
   "execution_count": 4,
   "id": "f739dd8d",
   "metadata": {},
   "outputs": [],
   "source": [
    "# Text-cleaning function\n",
    "def clean_and_reform_data(text):\n",
    "    text = re.sub('[^A-Za-z0-9]+', ' ', text) # remove punctuation marks\n",
    "    text = text.lower() # make lowercase\n",
    "    text = html.unescape(text) # unescape html characters\n",
    "    return text\n",
    "\n",
    "# Apply the text-cleaning function to the 'Text' column of the dataframe\n",
    "amazon_df['CleanText'] = amazon_df['Text'].apply(clean_and_reform_data)"
   ]
  },
  {
   "cell_type": "code",
   "execution_count": 5,
   "id": "47954032",
   "metadata": {},
   "outputs": [],
   "source": [
    "# Remove stopwords\n",
    "stop_words = set(stopwords.words('english'))\n",
    "amazon_df['WithoutStop'] = amazon_df['CleanText'].apply(lambda x: ' '.join([word for word in x.split() if word not in (stop_words)]))"
   ]
  },
  {
   "cell_type": "code",
   "execution_count": 6,
   "id": "a20ac23a",
   "metadata": {},
   "outputs": [
    {
     "data": {
      "text/html": [
       "<div>\n",
       "<style scoped>\n",
       "    .dataframe tbody tr th:only-of-type {\n",
       "        vertical-align: middle;\n",
       "    }\n",
       "\n",
       "    .dataframe tbody tr th {\n",
       "        vertical-align: top;\n",
       "    }\n",
       "\n",
       "    .dataframe thead th {\n",
       "        text-align: right;\n",
       "    }\n",
       "</style>\n",
       "<table border=\"1\" class=\"dataframe\">\n",
       "  <thead>\n",
       "    <tr style=\"text-align: right;\">\n",
       "      <th></th>\n",
       "      <th>Text</th>\n",
       "      <th>Score</th>\n",
       "      <th>CleanText</th>\n",
       "      <th>WithoutStop</th>\n",
       "      <th>StemmedText</th>\n",
       "    </tr>\n",
       "  </thead>\n",
       "  <tbody>\n",
       "    <tr>\n",
       "      <th>0</th>\n",
       "      <td>The description and photo on this product need...</td>\n",
       "      <td>3</td>\n",
       "      <td>the description and photo on this product need...</td>\n",
       "      <td>description photo product needs changed indica...</td>\n",
       "      <td>descript photo product need chang indic produc...</td>\n",
       "    </tr>\n",
       "    <tr>\n",
       "      <th>1</th>\n",
       "      <td>This was a great book!!!! It is well thought t...</td>\n",
       "      <td>5</td>\n",
       "      <td>this was a great book it is well thought throu...</td>\n",
       "      <td>great book well thought easily imagine events ...</td>\n",
       "      <td>great book well thought easili imagin event ha...</td>\n",
       "    </tr>\n",
       "    <tr>\n",
       "      <th>2</th>\n",
       "      <td>I am a first year teacher, teaching 5th grade....</td>\n",
       "      <td>5</td>\n",
       "      <td>i am a first year teacher teaching 5th grade i...</td>\n",
       "      <td>first year teacher teaching 5th grade special ...</td>\n",
       "      <td>first year teacher teach 5th grade special rea...</td>\n",
       "    </tr>\n",
       "    <tr>\n",
       "      <th>3</th>\n",
       "      <td>I got the book at my bookfair at school lookin...</td>\n",
       "      <td>5</td>\n",
       "      <td>i got the book at my bookfair at school lookin...</td>\n",
       "      <td>got book bookfair school looking something sum...</td>\n",
       "      <td>got book bookfair school look someth summer tu...</td>\n",
       "    </tr>\n",
       "    <tr>\n",
       "      <th>4</th>\n",
       "      <td>Hi! I'm Martine Redman and I created this puzz...</td>\n",
       "      <td>5</td>\n",
       "      <td>hi i m martine redman and i created this puzzl...</td>\n",
       "      <td>hi martine redman created puzzle briarpatch us...</td>\n",
       "      <td>hi martin redman creat puzzl briarpatch use gr...</td>\n",
       "    </tr>\n",
       "  </tbody>\n",
       "</table>\n",
       "</div>"
      ],
      "text/plain": [
       "                                                Text  Score  \\\n",
       "0  The description and photo on this product need...      3   \n",
       "1  This was a great book!!!! It is well thought t...      5   \n",
       "2  I am a first year teacher, teaching 5th grade....      5   \n",
       "3  I got the book at my bookfair at school lookin...      5   \n",
       "4  Hi! I'm Martine Redman and I created this puzz...      5   \n",
       "\n",
       "                                           CleanText  \\\n",
       "0  the description and photo on this product need...   \n",
       "1  this was a great book it is well thought throu...   \n",
       "2  i am a first year teacher teaching 5th grade i...   \n",
       "3  i got the book at my bookfair at school lookin...   \n",
       "4  hi i m martine redman and i created this puzzl...   \n",
       "\n",
       "                                         WithoutStop  \\\n",
       "0  description photo product needs changed indica...   \n",
       "1  great book well thought easily imagine events ...   \n",
       "2  first year teacher teaching 5th grade special ...   \n",
       "3  got book bookfair school looking something sum...   \n",
       "4  hi martine redman created puzzle briarpatch us...   \n",
       "\n",
       "                                         StemmedText  \n",
       "0  descript photo product need chang indic produc...  \n",
       "1  great book well thought easili imagin event ha...  \n",
       "2  first year teacher teach 5th grade special rea...  \n",
       "3  got book bookfair school look someth summer tu...  \n",
       "4  hi martin redman creat puzzl briarpatch use gr...  "
      ]
     },
     "execution_count": 6,
     "metadata": {},
     "output_type": "execute_result"
    }
   ],
   "source": [
    "# Use English stemmer\n",
    "stemmer = SnowballStemmer(\"english\")\n",
    "\n",
    "# Apply stemming\n",
    "amazon_df['StemmedText'] = amazon_df['WithoutStop'].apply(lambda x: ' '.join([stemmer.stem(word) for word in str(x).split()]))\n",
    "amazon_df.head() # Take a look at the altered dataframe"
   ]
  },
  {
   "cell_type": "code",
   "execution_count": 7,
   "id": "d718b808",
   "metadata": {},
   "outputs": [],
   "source": [
    "# Splitting each text into a list of words\n",
    "texts_splitted = []\n",
    "for text in amazon_df['StemmedText']:\n",
    "    temp = text.split()\n",
    "    texts_splitted.append(temp)"
   ]
  },
  {
   "cell_type": "markdown",
   "id": "3e22a23f",
   "metadata": {},
   "source": [
    "## Create a Word Embeddings model"
   ]
  },
  {
   "cell_type": "code",
   "execution_count": 8,
   "id": "5563d34f",
   "metadata": {},
   "outputs": [],
   "source": [
    "# Creating the Word2Vec model\n",
    "word2vec_model = Word2Vec(sentences = texts_splitted, vector_size = 150, workers = 6) # take the texts_splitted"
   ]
  },
  {
   "cell_type": "code",
   "execution_count": 9,
   "id": "9a99bb52",
   "metadata": {},
   "outputs": [],
   "source": [
    "# Create the word-text vectors\n",
    "def create_doc_vectors(data_tokens, word2vec_model):\n",
    "    features = []\n",
    "    for tokens in data_tokens:\n",
    "        zero_vector = np.zeros(word2vec_model.vector_size)\n",
    "        vectors = []\n",
    "        for token in tokens:\n",
    "            if token in word2vec_model.wv:\n",
    "                vectors.append(word2vec_model.wv[token])\n",
    "        if vectors:\n",
    "            vectors = np.asarray(vectors)\n",
    "            avg_vec = vectors.mean(axis = 0)\n",
    "            features.append(avg_vec)\n",
    "        else:\n",
    "            features.append(zero_vector)\n",
    "    return features\n",
    "\n",
    "vectorized_doc = create_doc_vectors(texts_splitted, word2vec_model) # vectorized texts"
   ]
  },
  {
   "cell_type": "markdown",
   "id": "20d45cd9",
   "metadata": {},
   "source": [
    "## Method 1: Multi-label classification with 5 labels"
   ]
  },
  {
   "cell_type": "code",
   "execution_count": 10,
   "id": "ace7e078",
   "metadata": {},
   "outputs": [],
   "source": [
    "# Define training and testing data\n",
    "# Testing data is the 20% of the overall data, and training the 80%\n",
    "X_train, X_test, y_train, y_test = train_test_split(vectorized_doc, amazon_df['Score'], test_size=0.2, stratify=amazon_df['Score'], random_state=42)"
   ]
  },
  {
   "cell_type": "code",
   "execution_count": 11,
   "id": "11b7b7ff",
   "metadata": {},
   "outputs": [
    {
     "data": {
      "text/plain": [
       "GridSearchCV(cv=5, estimator=RandomForestClassifier(n_jobs=-1, random_state=42),\n",
       "             param_grid={'max_depth': [20, 40, 80, None],\n",
       "                         'n_estimators': [100, 200, 250]})"
      ]
     },
     "execution_count": 11,
     "metadata": {},
     "output_type": "execute_result"
    }
   ],
   "source": [
    "# Using GridSearchCV to run our RandomForest model for different combinations of parameters\n",
    "# and find the best combination of parameters, based on acccuracy score\n",
    "\n",
    "# Parameters to be tested\n",
    "param_grid = {\n",
    "    'n_estimators': [100, 200, 250],\n",
    "    'max_depth': [20, 40, 80, None]\n",
    "}\n",
    "\n",
    "rfc = RandomForestClassifier(random_state=42, n_jobs=-1)\n",
    "CV_rfc = GridSearchCV(estimator=rfc, param_grid=param_grid, cv=5)\n",
    "CV_rfc.fit(X_train, y_train)"
   ]
  },
  {
   "cell_type": "code",
   "execution_count": 12,
   "id": "1a578b70",
   "metadata": {},
   "outputs": [
    {
     "name": "stdout",
     "output_type": "stream",
     "text": [
      "Best parameters are: {'max_depth': 40, 'n_estimators': 200}\n",
      "\n",
      "\n",
      "0.621 + or -0.001 for the {'max_depth': 20, 'n_estimators': 100}\n",
      "0.622 + or -0.001 for the {'max_depth': 20, 'n_estimators': 200}\n",
      "0.621 + or -0.001 for the {'max_depth': 20, 'n_estimators': 250}\n",
      "0.622 + or -0.002 for the {'max_depth': 40, 'n_estimators': 100}\n",
      "0.622 + or -0.001 for the {'max_depth': 40, 'n_estimators': 200}\n",
      "0.622 + or -0.002 for the {'max_depth': 40, 'n_estimators': 250}\n",
      "0.621 + or -0.002 for the {'max_depth': 80, 'n_estimators': 100}\n",
      "0.622 + or -0.002 for the {'max_depth': 80, 'n_estimators': 200}\n",
      "0.622 + or -0.001 for the {'max_depth': 80, 'n_estimators': 250}\n",
      "0.621 + or -0.002 for the {'max_depth': None, 'n_estimators': 100}\n",
      "0.622 + or -0.002 for the {'max_depth': None, 'n_estimators': 200}\n",
      "0.622 + or -0.001 for the {'max_depth': None, 'n_estimators': 250}\n"
     ]
    }
   ],
   "source": [
    "# Function for displaying the results of GridSearchCV\n",
    "def display(results):\n",
    "    print(f'Best parameters are: {results.best_params_}')\n",
    "    print(\"\\n\")\n",
    "    mean_score = results.cv_results_['mean_test_score']\n",
    "    std_score = results.cv_results_['std_test_score']\n",
    "    params = results.cv_results_['params']\n",
    "    for mean, std, params in zip(mean_score, std_score, params):\n",
    "        print(f'{round(mean, 3)} + or -{round(std, 3)} for the {params}')\n",
    "\n",
    "display(CV_rfc)"
   ]
  },
  {
   "cell_type": "code",
   "execution_count": 13,
   "id": "a34fef0b",
   "metadata": {},
   "outputs": [
    {
     "data": {
      "text/plain": [
       "RandomForestClassifier(max_depth=40, n_estimators=200, n_jobs=-1,\n",
       "                       random_state=42)"
      ]
     },
     "execution_count": 13,
     "metadata": {},
     "output_type": "execute_result"
    }
   ],
   "source": [
    "# Create a RandomForest model with the best combination of parameters\n",
    "clf = RandomForestClassifier(n_estimators=CV_rfc.best_params_['n_estimators'],\n",
    "                             max_depth=CV_rfc.best_params_['max_depth'], random_state=42, n_jobs=-1)\n",
    "# Fit the training data\n",
    "clf.fit(X_train, y_train)"
   ]
  },
  {
   "cell_type": "code",
   "execution_count": 14,
   "id": "0b02a925",
   "metadata": {},
   "outputs": [
    {
     "name": "stdout",
     "output_type": "stream",
     "text": [
      "              precision    recall  f1-score   support\n",
      "\n",
      "           1       0.66      0.30      0.41      1004\n",
      "           2       1.00      0.02      0.03       584\n",
      "           3       0.65      0.02      0.04       780\n",
      "           4       0.48      0.04      0.08      1677\n",
      "           5       0.63      0.99      0.77      5955\n",
      "\n",
      "    accuracy                           0.63     10000\n",
      "   macro avg       0.69      0.27      0.27     10000\n",
      "weighted avg       0.63      0.63      0.52     10000\n",
      "\n"
     ]
    }
   ],
   "source": [
    "# Predict the score of the testing data\n",
    "y_pred = clf.predict(X_test)\n",
    "\n",
    "# View the classification report for testing data and predictions\n",
    "print(classification_report(y_test, y_pred))"
   ]
  },
  {
   "cell_type": "code",
   "execution_count": 15,
   "id": "50cd2522",
   "metadata": {},
   "outputs": [
    {
     "name": "stdout",
     "output_type": "stream",
     "text": [
      "63.080000000000005\n"
     ]
    }
   ],
   "source": [
    "# View accuracy score\n",
    "print(accuracy_score(y_test, y_pred)*100)"
   ]
  },
  {
   "cell_type": "markdown",
   "id": "52b6e993",
   "metadata": {},
   "source": [
    "## Method 2: Trying to classify the positivity of Text "
   ]
  },
  {
   "cell_type": "code",
   "execution_count": 16,
   "id": "2d570cd1",
   "metadata": {},
   "outputs": [
    {
     "data": {
      "text/html": [
       "<div>\n",
       "<style scoped>\n",
       "    .dataframe tbody tr th:only-of-type {\n",
       "        vertical-align: middle;\n",
       "    }\n",
       "\n",
       "    .dataframe tbody tr th {\n",
       "        vertical-align: top;\n",
       "    }\n",
       "\n",
       "    .dataframe thead th {\n",
       "        text-align: right;\n",
       "    }\n",
       "</style>\n",
       "<table border=\"1\" class=\"dataframe\">\n",
       "  <thead>\n",
       "    <tr style=\"text-align: right;\">\n",
       "      <th></th>\n",
       "      <th>Text</th>\n",
       "      <th>Score</th>\n",
       "      <th>CleanText</th>\n",
       "      <th>WithoutStop</th>\n",
       "      <th>StemmedText</th>\n",
       "      <th>EncodedScore</th>\n",
       "    </tr>\n",
       "  </thead>\n",
       "  <tbody>\n",
       "    <tr>\n",
       "      <th>0</th>\n",
       "      <td>The description and photo on this product need...</td>\n",
       "      <td>3</td>\n",
       "      <td>the description and photo on this product need...</td>\n",
       "      <td>description photo product needs changed indica...</td>\n",
       "      <td>descript photo product need chang indic produc...</td>\n",
       "      <td>1</td>\n",
       "    </tr>\n",
       "    <tr>\n",
       "      <th>1</th>\n",
       "      <td>This was a great book!!!! It is well thought t...</td>\n",
       "      <td>5</td>\n",
       "      <td>this was a great book it is well thought throu...</td>\n",
       "      <td>great book well thought easily imagine events ...</td>\n",
       "      <td>great book well thought easili imagin event ha...</td>\n",
       "      <td>2</td>\n",
       "    </tr>\n",
       "    <tr>\n",
       "      <th>2</th>\n",
       "      <td>I am a first year teacher, teaching 5th grade....</td>\n",
       "      <td>5</td>\n",
       "      <td>i am a first year teacher teaching 5th grade i...</td>\n",
       "      <td>first year teacher teaching 5th grade special ...</td>\n",
       "      <td>first year teacher teach 5th grade special rea...</td>\n",
       "      <td>2</td>\n",
       "    </tr>\n",
       "    <tr>\n",
       "      <th>3</th>\n",
       "      <td>I got the book at my bookfair at school lookin...</td>\n",
       "      <td>5</td>\n",
       "      <td>i got the book at my bookfair at school lookin...</td>\n",
       "      <td>got book bookfair school looking something sum...</td>\n",
       "      <td>got book bookfair school look someth summer tu...</td>\n",
       "      <td>2</td>\n",
       "    </tr>\n",
       "    <tr>\n",
       "      <th>4</th>\n",
       "      <td>Hi! I'm Martine Redman and I created this puzz...</td>\n",
       "      <td>5</td>\n",
       "      <td>hi i m martine redman and i created this puzzl...</td>\n",
       "      <td>hi martine redman created puzzle briarpatch us...</td>\n",
       "      <td>hi martin redman creat puzzl briarpatch use gr...</td>\n",
       "      <td>2</td>\n",
       "    </tr>\n",
       "  </tbody>\n",
       "</table>\n",
       "</div>"
      ],
      "text/plain": [
       "                                                Text  Score  \\\n",
       "0  The description and photo on this product need...      3   \n",
       "1  This was a great book!!!! It is well thought t...      5   \n",
       "2  I am a first year teacher, teaching 5th grade....      5   \n",
       "3  I got the book at my bookfair at school lookin...      5   \n",
       "4  Hi! I'm Martine Redman and I created this puzz...      5   \n",
       "\n",
       "                                           CleanText  \\\n",
       "0  the description and photo on this product need...   \n",
       "1  this was a great book it is well thought throu...   \n",
       "2  i am a first year teacher teaching 5th grade i...   \n",
       "3  i got the book at my bookfair at school lookin...   \n",
       "4  hi i m martine redman and i created this puzzl...   \n",
       "\n",
       "                                         WithoutStop  \\\n",
       "0  description photo product needs changed indica...   \n",
       "1  great book well thought easily imagine events ...   \n",
       "2  first year teacher teaching 5th grade special ...   \n",
       "3  got book bookfair school looking something sum...   \n",
       "4  hi martine redman created puzzle briarpatch us...   \n",
       "\n",
       "                                         StemmedText  EncodedScore  \n",
       "0  descript photo product need chang indic produc...             1  \n",
       "1  great book well thought easili imagin event ha...             2  \n",
       "2  first year teacher teach 5th grade special rea...             2  \n",
       "3  got book bookfair school look someth summer tu...             2  \n",
       "4  hi martin redman creat puzzl briarpatch use gr...             2  "
      ]
     },
     "execution_count": 16,
     "metadata": {},
     "output_type": "execute_result"
    }
   ],
   "source": [
    "# Encode each score into 0, 1, or 2, indicating rating positivity/negativity\n",
    "def encodeLabel(score):\n",
    "    if score == 5 or score == 4: # If the score is generally positive\n",
    "        return 2 # Give the score 2 for positive\n",
    "    if score == 3: # If the score is generally neutral\n",
    "        return 1 # Give the score 1 for neutral\n",
    "    return 0 # Give the score 0 for negative\n",
    "\n",
    "# Give the labels a name\n",
    "labels = [\"Negative\", \"Neutral\", \"Positive\"]\n",
    "\n",
    "# Encode the scores to positivity labels\n",
    "amazon_df[\"EncodedScore\"] = amazon_df[\"Score\"].apply(encodeLabel)\n",
    "\n",
    "amazon_df.head() # Take a look at the dataframe with the new labels"
   ]
  },
  {
   "cell_type": "code",
   "execution_count": 17,
   "id": "515f1494",
   "metadata": {},
   "outputs": [],
   "source": [
    "# Define training and testing data\n",
    "# Testing data is the 20% of the overall data, and training the 80%\n",
    "x_train, x_test, y_train, y_test = train_test_split(vectorized_doc, amazon_df['EncodedScore'], test_size=0.2, stratify=amazon_df['EncodedScore'], random_state=42)"
   ]
  },
  {
   "cell_type": "code",
   "execution_count": 18,
   "id": "319a1b17",
   "metadata": {},
   "outputs": [
    {
     "data": {
      "text/plain": [
       "RandomForestClassifier(max_depth=40, n_estimators=200, n_jobs=-1,\n",
       "                       random_state=42)"
      ]
     },
     "execution_count": 18,
     "metadata": {},
     "output_type": "execute_result"
    }
   ],
   "source": [
    "# Create a RandomForest model with the same parameters as before\n",
    "rfc = RandomForestClassifier(n_estimators=CV_rfc.best_params_['n_estimators'],\n",
    "                             max_depth=CV_rfc.best_params_['max_depth'], random_state=42, n_jobs=-1)\n",
    "# Fit the training data\n",
    "rfc.fit(x_train, y_train)"
   ]
  },
  {
   "cell_type": "code",
   "execution_count": 19,
   "id": "09bc2501",
   "metadata": {},
   "outputs": [
    {
     "name": "stdout",
     "output_type": "stream",
     "text": [
      "              precision    recall  f1-score   support\n",
      "\n",
      "    Negative       0.78      0.25      0.38      1588\n",
      "     Neutral       0.93      0.02      0.03       780\n",
      "    Positive       0.80      0.99      0.89      7632\n",
      "\n",
      "    accuracy                           0.80     10000\n",
      "   macro avg       0.84      0.42      0.43     10000\n",
      "weighted avg       0.81      0.80      0.74     10000\n",
      "\n"
     ]
    }
   ],
   "source": [
    "# Predict the score of the testing data\n",
    "y_pred = rfc.predict(x_test)\n",
    "\n",
    "# View the classification report for test data and predictions\n",
    "print(classification_report(y_test, y_pred, target_names = labels)) # Print a classification report"
   ]
  },
  {
   "cell_type": "code",
   "execution_count": 20,
   "id": "343c9349",
   "metadata": {},
   "outputs": [
    {
     "name": "stdout",
     "output_type": "stream",
     "text": [
      "79.82000000000001\n"
     ]
    }
   ],
   "source": [
    "# View accuracy score\n",
    "print(accuracy_score(y_test, y_pred)*100)"
   ]
  },
  {
   "cell_type": "code",
   "execution_count": null,
   "id": "bea6cb83",
   "metadata": {},
   "outputs": [],
   "source": []
  }
 ],
 "metadata": {
  "kernelspec": {
   "display_name": "Python 3",
   "language": "python",
   "name": "python3"
  },
  "language_info": {
   "codemirror_mode": {
    "name": "ipython",
    "version": 3
   },
   "file_extension": ".py",
   "mimetype": "text/x-python",
   "name": "python",
   "nbconvert_exporter": "python",
   "pygments_lexer": "ipython3",
   "version": "3.6.8"
  }
 },
 "nbformat": 4,
 "nbformat_minor": 5
}
